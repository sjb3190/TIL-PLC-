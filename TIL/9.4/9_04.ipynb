{
  "nbformat": 4,
  "nbformat_minor": 0,
  "metadata": {
    "colab": {
      "provenance": [],
      "authorship_tag": "ABX9TyMhZxHrkSk5Dh+H9fuAdXoQ",
      "include_colab_link": true
    },
    "kernelspec": {
      "name": "python3",
      "display_name": "Python 3"
    },
    "language_info": {
      "name": "python"
    }
  },
  "cells": [
    {
      "cell_type": "markdown",
      "metadata": {
        "id": "view-in-github",
        "colab_type": "text"
      },
      "source": [
        "<a href=\"https://colab.research.google.com/github/sjb3190/TIL-PLC-/blob/main/9_04.ipynb\" target=\"_parent\"><img src=\"https://colab.research.google.com/assets/colab-badge.svg\" alt=\"Open In Colab\"/></a>"
      ]
    },
    {
      "cell_type": "markdown",
      "source": [
        "##자료형 확인하기"
      ],
      "metadata": {
        "id": "TFBqMQdnLk4H"
      }
    },
    {
      "cell_type": "code",
      "execution_count": 1,
      "metadata": {
        "colab": {
          "base_uri": "https://localhost:8080/"
        },
        "id": "c8lS046PKqQL",
        "outputId": "5104314c-adca-4aca-bd45-709bd30abdcd"
      },
      "outputs": [
        {
          "output_type": "stream",
          "name": "stdout",
          "text": [
            "<class 'str'>\n"
          ]
        }
      ],
      "source": [
        "print(type(\"안녕\"))                    ### str =string = 문자열 형태의 데이터라는뜻"
      ]
    },
    {
      "cell_type": "code",
      "source": [
        "print(type(123))                      ### int = integer = 정수형 데이터"
      ],
      "metadata": {
        "colab": {
          "base_uri": "https://localhost:8080/"
        },
        "id": "6ZLjWy2VL_5j",
        "outputId": "5fac8eb4-2eb5-4ebe-9f19-2abdb3a16d20"
      },
      "execution_count": 2,
      "outputs": [
        {
          "output_type": "stream",
          "name": "stdout",
          "text": [
            "<class 'int'>\n"
          ]
        }
      ]
    },
    {
      "cell_type": "markdown",
      "source": [
        "##문자열 만들기"
      ],
      "metadata": {
        "id": "83UrpvB8MavP"
      }
    },
    {
      "cell_type": "code",
      "source": [
        "print(\"안녕\")"
      ],
      "metadata": {
        "colab": {
          "base_uri": "https://localhost:8080/"
        },
        "id": "JqEIT6DYMdA2",
        "outputId": "9165b50f-dcb0-4680-de55-21d4c1d92c46"
      },
      "execution_count": 3,
      "outputs": [
        {
          "output_type": "stream",
          "name": "stdout",
          "text": [
            "안녕\n"
          ]
        }
      ]
    },
    {
      "cell_type": "markdown",
      "source": [
        "###문자열 내부에 따옴표 넣기"
      ],
      "metadata": {
        "id": "Ak2cAuzIMzUt"
      }
    },
    {
      "cell_type": "code",
      "source": [
        "print(\"나는 '심정보' 입니다\")\n",
        "print('나는 \"심정보\" 입니다')"
      ],
      "metadata": {
        "colab": {
          "base_uri": "https://localhost:8080/"
        },
        "id": "xGKsgFOnM4PV",
        "outputId": "6fb071b4-969e-4f2a-9fcd-77bf8b117191"
      },
      "execution_count": 5,
      "outputs": [
        {
          "output_type": "stream",
          "name": "stdout",
          "text": [
            "나는 '심정보' 입니다\n",
            "나는 \"심정보\" 입니다\n"
          ]
        }
      ]
    },
    {
      "cell_type": "markdown",
      "source": [
        "###다양한 이스케이프 문자\n",
        "\n",
        "- \\n : 줄바꿈\n",
        "- \\t : 탭\n"
      ],
      "metadata": {
        "id": "lkOmPpfJNFHZ"
      }
    },
    {
      "cell_type": "code",
      "source": [
        "print(\"나는\\n심정보\\n입니다\")\n",
        "print(\"----------\")\n",
        "print(\"나는\\t심정보\\t입니다\")"
      ],
      "metadata": {
        "colab": {
          "base_uri": "https://localhost:8080/"
        },
        "id": "9sDJzDsyNRpI",
        "outputId": "520809ff-a303-473a-8dd1-a4cff3d49901"
      },
      "execution_count": 9,
      "outputs": [
        {
          "output_type": "stream",
          "name": "stdout",
          "text": [
            "나는\n",
            "심정보\n",
            "입니다\n",
            "----------\n",
            "나는\t심정보\t입니다\n"
          ]
        }
      ]
    },
    {
      "cell_type": "markdown",
      "source": [
        "### 문자열 연결 연산자 :  +"
      ],
      "metadata": {
        "id": "xFjEC0PiN5jd"
      }
    },
    {
      "cell_type": "code",
      "source": [
        "print(\"심\"+\"정보\")  ## 공백 없음\n",
        "\n",
        "print(\"심\",\"정보\")  ## 공백 있음\n",
        "\n",
        "print(\"오늘은\" + 21 + \"도 입니다\")                 ## 문자열은 문자열만 연결 할 수 있음\n"
      ],
      "metadata": {
        "colab": {
          "base_uri": "https://localhost:8080/",
          "height": 258
        },
        "id": "3kpBm2guN9lz",
        "outputId": "19e70548-0e7c-4683-c6f2-6ef5327598c5"
      },
      "execution_count": 13,
      "outputs": [
        {
          "output_type": "stream",
          "name": "stdout",
          "text": [
            "심정보\n",
            "심 정보\n"
          ]
        },
        {
          "output_type": "error",
          "ename": "TypeError",
          "evalue": "ignored",
          "traceback": [
            "\u001b[0;31m---------------------------------------------------------------------------\u001b[0m",
            "\u001b[0;31mTypeError\u001b[0m                                 Traceback (most recent call last)",
            "\u001b[0;32m<ipython-input-13-39e2c5b833fc>\u001b[0m in \u001b[0;36m<cell line: 5>\u001b[0;34m()\u001b[0m\n\u001b[1;32m      3\u001b[0m \u001b[0mprint\u001b[0m\u001b[0;34m(\u001b[0m\u001b[0;34m\"심\"\u001b[0m\u001b[0;34m,\u001b[0m\u001b[0;34m\"정보\"\u001b[0m\u001b[0;34m)\u001b[0m\u001b[0;34m\u001b[0m\u001b[0;34m\u001b[0m\u001b[0m\n\u001b[1;32m      4\u001b[0m \u001b[0;34m\u001b[0m\u001b[0m\n\u001b[0;32m----> 5\u001b[0;31m \u001b[0mprint\u001b[0m\u001b[0;34m(\u001b[0m\u001b[0;34m\"오늘은\"\u001b[0m \u001b[0;34m+\u001b[0m \u001b[0;36m21\u001b[0m \u001b[0;34m+\u001b[0m \u001b[0;34m\"도 입니다\"\u001b[0m\u001b[0;34m)\u001b[0m                 \u001b[0;31m##\u001b[0m\u001b[0;34m\u001b[0m\u001b[0;34m\u001b[0m\u001b[0m\n\u001b[0m",
            "\u001b[0;31mTypeError\u001b[0m: can only concatenate str (not \"int\") to str"
          ]
        }
      ]
    },
    {
      "cell_type": "code",
      "source": [],
      "metadata": {
        "id": "-HRUixp3OUqt"
      },
      "execution_count": null,
      "outputs": []
    },
    {
      "cell_type": "markdown",
      "source": [
        "###문자열 선택 연산자 (인덱싱) : []"
      ],
      "metadata": {
        "id": "OW_eOCAzOnBs"
      }
    },
    {
      "cell_type": "code",
      "source": [
        "print(\"나는 심정보 입니다\"[1])          ## 첫번째는 글자는 0부터 시작함\n",
        "print(\"나는 심정보 입니다\"[-1])         ## -1부터 선택하여 마지막 글자 선택 할 수 있음\n",
        "print(\"나는 심정보 입니다\"[3:6])        ## :를 이용하여 범위로 선택하여 추출할 수 있음\n",
        "print(\"나는 심정보 입니다\"[3:])         ## :전,후를 생략하여 처음부터 혹은 끝까지 추출 할 수 있음\n",
        "print(\"나는 심정보 입니다\"[:3])"
      ],
      "metadata": {
        "colab": {
          "base_uri": "https://localhost:8080/"
        },
        "id": "ciAUb47WOrjY",
        "outputId": "850283c4-b8f6-4af2-a8ed-b880e25263ce"
      },
      "execution_count": 23,
      "outputs": [
        {
          "output_type": "stream",
          "name": "stdout",
          "text": [
            "는\n",
            "다\n",
            "심정보\n",
            "심정보 입니다\n",
            "나는 \n"
          ]
        }
      ]
    },
    {
      "cell_type": "markdown",
      "source": [
        "## 숫자"
      ],
      "metadata": {
        "id": "wKvwnvh0Puli"
      }
    },
    {
      "cell_type": "code",
      "source": [
        "print(type(3))     ## int는 정수\n",
        "print(type(3.14))  ## float는 실수"
      ],
      "metadata": {
        "colab": {
          "base_uri": "https://localhost:8080/"
        },
        "id": "Fmp1FO7xPxzN",
        "outputId": "bceff72e-7f86-4bcc-d0b5-7e7e50c76e78"
      },
      "execution_count": 25,
      "outputs": [
        {
          "output_type": "stream",
          "name": "stdout",
          "text": [
            "<class 'int'>\n",
            "<class 'float'>\n"
          ]
        }
      ]
    },
    {
      "cell_type": "markdown",
      "source": [
        "### 사칙연산"
      ],
      "metadata": {
        "id": "hxb5VrgHQbDu"
      }
    },
    {
      "cell_type": "code",
      "source": [
        "print(4+2)\n",
        "print(4-2)\n",
        "print(4*2)\n",
        "print(4/2)\n",
        "\n",
        "print(5//2) #몫만 반환\n",
        "print(5%2)  #나머지 연산자\n",
        "print(2**4) #제곱 연산자 (2의4제곱)"
      ],
      "metadata": {
        "colab": {
          "base_uri": "https://localhost:8080/"
        },
        "id": "NvAZGcYSQcme",
        "outputId": "e9cf5db0-a2db-43ef-eb8f-55b95c02fb4d"
      },
      "execution_count": 32,
      "outputs": [
        {
          "output_type": "stream",
          "name": "stdout",
          "text": [
            "6\n",
            "2\n",
            "8\n",
            "2.0\n",
            "2\n",
            "1\n",
            "16\n"
          ]
        }
      ]
    },
    {
      "cell_type": "markdown",
      "source": [
        "###변수와 입력"
      ],
      "metadata": {
        "id": "UDyuUkuNRAp2"
      }
    },
    {
      "cell_type": "code",
      "source": [
        "x = 12.34\n",
        "print(x+1)\n"
      ],
      "metadata": {
        "colab": {
          "base_uri": "https://localhost:8080/"
        },
        "id": "c1ndcOdyRC2r",
        "outputId": "6b591307-bcab-4c8f-f520-0ab12f69d99f"
      },
      "execution_count": 38,
      "outputs": [
        {
          "output_type": "stream",
          "name": "stdout",
          "text": [
            "13.34\n"
          ]
        }
      ]
    },
    {
      "cell_type": "code",
      "source": [
        "x=\"심\"\n",
        "print(x+\"(정보)\")"
      ],
      "metadata": {
        "colab": {
          "base_uri": "https://localhost:8080/"
        },
        "id": "9ocamGbZRbgO",
        "outputId": "a5d4a3b7-7706-4f6a-a242-e81cd87856de"
      },
      "execution_count": 40,
      "outputs": [
        {
          "output_type": "stream",
          "name": "stdout",
          "text": [
            "심(정보)\n"
          ]
        }
      ]
    },
    {
      "cell_type": "markdown",
      "source": [
        "###복합 대입 연산자\n",
        "\n",
        "<center>  \n",
        "\n",
        "|연산자 이름|설명|\n",
        "|:-:|:-:|\n",
        "|+=|숫자 덧셈 후 대입|\n",
        "|-=|숫자 뺄셈 후 대입|\n",
        "|*=|숫자 곱셈 후 대입|\n",
        "|/=|숫자 나눗셈 후 대입|\n",
        "|%=|숫자의 나머지를 구한 후 대입|\n",
        "|**=|숫자 제곱 후 대입|\n",
        "\n",
        "</center>"
      ],
      "metadata": {
        "id": "yi0ohry9RkQz"
      }
    },
    {
      "cell_type": "code",
      "source": [
        "x=10\n",
        "x += 30\n",
        "print(x)\n",
        "\n",
        "x -= 5\n",
        "print(x)\n",
        "\n",
        "x *= 2\n",
        "print(x)\n",
        "\n",
        "x /= 7\n",
        "print(x)\n",
        "\n",
        "x **= 2\n",
        "print(x)"
      ],
      "metadata": {
        "colab": {
          "base_uri": "https://localhost:8080/"
        },
        "id": "X_SsKfxyRmg8",
        "outputId": "2f1fd002-f526-405c-b129-5529250ec162"
      },
      "execution_count": 45,
      "outputs": [
        {
          "output_type": "stream",
          "name": "stdout",
          "text": [
            "40\n",
            "35\n",
            "70\n",
            "10.0\n",
            "100.0\n"
          ]
        }
      ]
    },
    {
      "cell_type": "markdown",
      "source": [
        "### 사용자 입력 : input()"
      ],
      "metadata": {
        "id": "id5XJukMSMDz"
      }
    },
    {
      "cell_type": "code",
      "source": [
        "input(\"당신의 이름을 입력하시오:\")"
      ],
      "metadata": {
        "colab": {
          "base_uri": "https://localhost:8080/",
          "height": 54
        },
        "id": "8QjRuogISShR",
        "outputId": "91fb5c09-e027-4d18-9a32-ae2ae56291a5"
      },
      "execution_count": 48,
      "outputs": [
        {
          "name": "stdout",
          "output_type": "stream",
          "text": [
            "당신의 이름을 입력하시오:심정보\n"
          ]
        },
        {
          "output_type": "execute_result",
          "data": {
            "text/plain": [
              "'심정보'"
            ],
            "application/vnd.google.colaboratory.intrinsic+json": {
              "type": "string"
            }
          },
          "metadata": {},
          "execution_count": 48
        }
      ]
    },
    {
      "cell_type": "code",
      "source": [
        "value = input(\"당신의 이름을 입력하시오:\")\n",
        "print(value)"
      ],
      "metadata": {
        "colab": {
          "base_uri": "https://localhost:8080/"
        },
        "id": "5M9qL6uTSjOc",
        "outputId": "f82a8c83-af6c-425f-c174-9970d7a1a102"
      },
      "execution_count": 49,
      "outputs": [
        {
          "output_type": "stream",
          "name": "stdout",
          "text": [
            "당신의 이름을 입력하시오:심정보\n",
            "심정보\n"
          ]
        }
      ]
    },
    {
      "cell_type": "markdown",
      "source": [
        "### 숫자를 문자열로 바꾸기"
      ],
      "metadata": {
        "id": "4wi60KoqS5Wz"
      }
    },
    {
      "cell_type": "code",
      "source": [
        "print(\"오늘은\" + str(25)+ \"도 입니다\")        ## 정수인 25를 문자열로 바꾸어 실행이 가능"
      ],
      "metadata": {
        "colab": {
          "base_uri": "https://localhost:8080/"
        },
        "id": "i0_W7hjsS74w",
        "outputId": "d3d1868a-d9a3-48e0-f542-cbb39076351b"
      },
      "execution_count": 52,
      "outputs": [
        {
          "output_type": "stream",
          "name": "stdout",
          "text": [
            "오늘은25도 입니다\n"
          ]
        }
      ]
    },
    {
      "cell_type": "markdown",
      "source": [
        "###문자열의 format() 함수"
      ],
      "metadata": {
        "id": "xXLF_hXTTNxk"
      }
    },
    {
      "cell_type": "code",
      "source": [
        "print('오늘은  {}도 입니다'.format(25))         ## format ()에 있는게 {}로 들어간다 생각\n",
        "\n",
        "teperature = 24\n",
        "print('오늘은  {}도 입니다'.format(teperature))  ## 문자로 치환하여 대입가능\n",
        "\n",
        "print('오늘은 {}도 내일은 {}도 입니다'.format(24,23))  ## 여러개 쓸 수 있음"
      ],
      "metadata": {
        "colab": {
          "base_uri": "https://localhost:8080/"
        },
        "id": "aCd7ZjIkTRLU",
        "outputId": "e9155140-e6ce-4717-855e-99b41dcefdc5"
      },
      "execution_count": 59,
      "outputs": [
        {
          "output_type": "stream",
          "name": "stdout",
          "text": [
            "오늘은  25도 입니다\n",
            "오늘은  24도 입니다\n",
            "오늘은 24도 내일은 23도 입니다\n"
          ]
        }
      ]
    },
    {
      "cell_type": "markdown",
      "source": [
        "###문자열 양옆의 공백 제거하기:strip()"
      ],
      "metadata": {
        "id": "s9YcDmLbUTne"
      }
    },
    {
      "cell_type": "code",
      "source": [
        "price = \"    100,000원 \"\n",
        "print(price)\n",
        "print(price.strip())"
      ],
      "metadata": {
        "colab": {
          "base_uri": "https://localhost:8080/"
        },
        "id": "KzbG3deyUZVm",
        "outputId": "99c720d5-1761-4842-c683-22532b683c0e"
      },
      "execution_count": 61,
      "outputs": [
        {
          "output_type": "stream",
          "name": "stdout",
          "text": [
            "    100,000원 \n",
            "100,000원\n"
          ]
        }
      ]
    },
    {
      "cell_type": "markdown",
      "source": [
        "###문자열과 in 연산자"
      ],
      "metadata": {
        "id": "QLzLYi_DUuVG"
      }
    },
    {
      "cell_type": "code",
      "source": [
        "'심정보' in '나는 심정보 입니다'"
      ],
      "metadata": {
        "colab": {
          "base_uri": "https://localhost:8080/"
        },
        "id": "QLCWdgR6UxUm",
        "outputId": "76886907-e531-4438-d818-3cdd223a629a"
      },
      "execution_count": 68,
      "outputs": [
        {
          "output_type": "execute_result",
          "data": {
            "text/plain": [
              "True"
            ]
          },
          "metadata": {},
          "execution_count": 68
        }
      ]
    },
    {
      "cell_type": "code",
      "source": [
        "'심' in '나는 심정보 입니다'"
      ],
      "metadata": {
        "colab": {
          "base_uri": "https://localhost:8080/"
        },
        "id": "T1ppObrQVCzf",
        "outputId": "11649bda-d24d-443d-f6c0-7e41aa1253c1"
      },
      "execution_count": 71,
      "outputs": [
        {
          "output_type": "execute_result",
          "data": {
            "text/plain": [
              "True"
            ]
          },
          "metadata": {},
          "execution_count": 71
        }
      ]
    },
    {
      "cell_type": "markdown",
      "source": [
        "###문자열 자르기:split()"
      ],
      "metadata": {
        "id": "DTPdzxdJVVIn"
      }
    },
    {
      "cell_type": "code",
      "source": [
        "hobby = \"등산,축구,게임\"\n",
        "print(hobby)\n",
        "print(hobby.split(','))"
      ],
      "metadata": {
        "colab": {
          "base_uri": "https://localhost:8080/"
        },
        "id": "gjABXNGLVfS9",
        "outputId": "530ef29e-2faf-4126-a741-51f44b251680"
      },
      "execution_count": 73,
      "outputs": [
        {
          "output_type": "stream",
          "name": "stdout",
          "text": [
            "등산,축구,게임\n",
            "['등산', '축구', '게임']\n"
          ]
        }
      ]
    },
    {
      "cell_type": "markdown",
      "source": [
        "###문자 대체 :replace()"
      ],
      "metadata": {
        "id": "yATz2pUuV85F"
      }
    },
    {
      "cell_type": "code",
      "source": [
        "name = \"sim, jeong-bo\"\n",
        "\n",
        "name = name.replace('-',',')  ## (-)를 (,)로 바꾼다\n",
        "print(name)\n",
        "name = name.replace(',','-')  ## (,)를 (-)로 바꾼다\n",
        "print(name)"
      ],
      "metadata": {
        "colab": {
          "base_uri": "https://localhost:8080/"
        },
        "id": "wCXoXr-MWA36",
        "outputId": "5658d968-6f40-4369-cc8d-ba893d5bbe76"
      },
      "execution_count": 80,
      "outputs": [
        {
          "output_type": "stream",
          "name": "stdout",
          "text": [
            "sim, jeong,bo\n",
            "sim- jeong-bo\n"
          ]
        }
      ]
    }
  ]
}
