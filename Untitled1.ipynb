{
  "nbformat": 4,
  "nbformat_minor": 0,
  "metadata": {
    "colab": {
      "provenance": [],
      "authorship_tag": "ABX9TyNHU18EMs5szEbdTHs3+Foe",
      "include_colab_link": true
    },
    "kernelspec": {
      "name": "python3",
      "display_name": "Python 3"
    },
    "language_info": {
      "name": "python"
    }
  },
  "cells": [
    {
      "cell_type": "markdown",
      "metadata": {
        "id": "view-in-github",
        "colab_type": "text"
      },
      "source": [
        "<a href=\"https://colab.research.google.com/github/sjb3190/TIL-PLC-/blob/main/Untitled1.ipynb\" target=\"_parent\"><img src=\"https://colab.research.google.com/assets/colab-badge.svg\" alt=\"Open In Colab\"/></a>"
      ]
    },
    {
      "cell_type": "code",
      "execution_count": null,
      "metadata": {
        "colab": {
          "base_uri": "https://localhost:8080/"
        },
        "id": "uvm_ulW1vEsM",
        "outputId": "61dd4bb4-ed96-40bd-8409-386afd3e2c17"
      },
      "outputs": [
        {
          "output_type": "stream",
          "name": "stdout",
          "text": [
            "구숙정, 여, 35, 경기도 용인시, 010-9105-1111\n",
            " 010-9105-1111\n"
          ]
        }
      ],
      "source": [
        "msg = '김성필, 남, 50, 경기도 화성시 동탄, 010-9105-0000\\n구숙정, 여, 35, 경기도 용인시, 010-9105-1111\\n주성치, 남, 32, 경기도 수원시, 010-1111-2222'\n",
        "\n",
        "persions = msg.split('\\n')\n",
        "print(persions[1])\n",
        "\n",
        "asd = persions[1].split(',')\n",
        "print(asd[-1])"
      ]
    },
    {
      "cell_type": "code",
      "source": [
        "lst = [1, 2, 3, 4, 5]\n",
        "\n",
        "pop_data = lst.pop(0)\n",
        "lst.append(pop_data)\n",
        "\n",
        "print( lst )"
      ],
      "metadata": {
        "id": "3e7fRQqvFUIx",
        "outputId": "b7aaac62-cf04-4dfb-9579-077f0b2c35a6",
        "colab": {
          "base_uri": "https://localhost:8080/"
        }
      },
      "execution_count": null,
      "outputs": [
        {
          "output_type": "stream",
          "name": "stdout",
          "text": [
            "[2, 3, 4, 5, 1]\n"
          ]
        }
      ]
    }
  ]
}