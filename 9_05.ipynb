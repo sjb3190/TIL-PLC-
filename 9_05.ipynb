{
  "nbformat": 4,
  "nbformat_minor": 0,
  "metadata": {
    "colab": {
      "provenance": [],
      "authorship_tag": "ABX9TyPE1CKb62YD1if3nIZEcgLN",
      "include_colab_link": true
    },
    "kernelspec": {
      "name": "python3",
      "display_name": "Python 3"
    },
    "language_info": {
      "name": "python"
    }
  },
  "cells": [
    {
      "cell_type": "markdown",
      "metadata": {
        "id": "view-in-github",
        "colab_type": "text"
      },
      "source": [
        "<a href=\"https://colab.research.google.com/github/sjb3190/TIL-PLC-/blob/main/9_05.ipynb\" target=\"_parent\"><img src=\"https://colab.research.google.com/assets/colab-badge.svg\" alt=\"Open In Colab\"/></a>"
      ]
    },
    {
      "cell_type": "markdown",
      "source": [
        "#불 자료형과 if 조건문"
      ],
      "metadata": {
        "id": "of3-iXLNrhNt"
      }
    },
    {
      "cell_type": "markdown",
      "source": [
        "<center>\n",
        "\n",
        "|연산자|설명|연산자|설명|\n",
        "|:-:|:-:|:-:|:-:|\n",
        "|==|같다|>|크다|\n",
        "|!=|다르다| <=| 작거나 같다|\n",
        "|<|작다|>=|크거나 같다|"
      ],
      "metadata": {
        "id": "GvbJTDgIr18s"
      }
    },
    {
      "cell_type": "code",
      "source": [
        "print(10 == 100)\n",
        "result = (10 == 100)\n",
        "print(result)"
      ],
      "metadata": {
        "colab": {
          "base_uri": "https://localhost:8080/"
        },
        "id": "XfkfY-qQroSH",
        "outputId": "6904ff0e-9d2d-4ee5-9b52-7f10c3765d65"
      },
      "execution_count": null,
      "outputs": [
        {
          "output_type": "stream",
          "name": "stdout",
          "text": [
            "False\n",
            "False\n"
          ]
        }
      ]
    },
    {
      "cell_type": "code",
      "source": [
        "print(10 != 100)"
      ],
      "metadata": {
        "colab": {
          "base_uri": "https://localhost:8080/"
        },
        "id": "484Sd0BWsSKB",
        "outputId": "18ab4664-488f-47b5-cba7-93018aa865d1"
      },
      "execution_count": null,
      "outputs": [
        {
          "output_type": "stream",
          "name": "stdout",
          "text": [
            "True\n"
          ]
        }
      ]
    },
    {
      "cell_type": "markdown",
      "source": [
        "파이썬은 문자열을 가지고 비교연산 사능"
      ],
      "metadata": {
        "id": "bn_TtSUqsYIr"
      }
    },
    {
      "cell_type": "code",
      "source": [
        "print('고양이' > '나무')    #가나다 순으로 크기를 따짐\n",
        "print('고양이' < '나무')"
      ],
      "metadata": {
        "colab": {
          "base_uri": "https://localhost:8080/"
        },
        "id": "uKrPDObusbQ-",
        "outputId": "e715059d-5a05-485e-e05c-2b0fef1dcbc0"
      },
      "execution_count": null,
      "outputs": [
        {
          "output_type": "stream",
          "name": "stdout",
          "text": [
            "False\n",
            "True\n"
          ]
        }
      ]
    },
    {
      "cell_type": "code",
      "source": [
        "x = 3\n",
        "print( 0 <= x < 5)            #변수의 범위 평가 가능\n",
        "\n",
        "x = 10\n",
        "print( 0 <= x < 5)"
      ],
      "metadata": {
        "colab": {
          "base_uri": "https://localhost:8080/"
        },
        "id": "xfGfE574snaP",
        "outputId": "75662b61-9aec-441a-ec84-fdb7388b55a4"
      },
      "execution_count": null,
      "outputs": [
        {
          "output_type": "stream",
          "name": "stdout",
          "text": [
            "True\n",
            "False\n"
          ]
        }
      ]
    },
    {
      "cell_type": "markdown",
      "source": [
        "# if 조건문\n",
        "if문은 조건에 따라 실행할 코드를 나누는데 사용\n",
        "\n",
        "```python\n",
        "if( condition == True):\n",
        "  #참이면 여기에 있는 코드를 실행\n",
        "else:\n",
        "  #거짓이면 여기에 있는 코드를 실행\n",
        "```\n",
        "\n"
      ],
      "metadata": {
        "id": "5eM-NgWTs2ZC"
      }
    },
    {
      "cell_type": "code",
      "source": [
        "a = 1\n",
        "b = 2\n",
        "print( a > b )       #거짓이므로 false\n",
        "\n",
        "if ( a > b ):\n",
        "  print('a > b')\n",
        "  print('dkdkdkdk')\n",
        "else:\n",
        "  print('이 조건(a > b)이 거짓이네')   #이 경우 이므로 텍스트 추출"
      ],
      "metadata": {
        "colab": {
          "base_uri": "https://localhost:8080/"
        },
        "id": "__4JvohMtLXm",
        "outputId": "1f329a77-5092-495e-b2d0-fdbe6e81fc0a"
      },
      "execution_count": null,
      "outputs": [
        {
          "output_type": "stream",
          "name": "stdout",
          "text": [
            "False\n",
            "이 조건(a > b)이 거짓이네\n"
          ]
        }
      ]
    },
    {
      "cell_type": "markdown",
      "source": [
        "##if 조건_표현 끝에 반드시 <font color=red>콜론(:)</font> 사용"
      ],
      "metadata": {
        "id": "osMkgJi9tjNG"
      }
    },
    {
      "cell_type": "code",
      "source": [
        "str_n = input('정수를 입력하세요 : ')\n",
        "int_n = int(str_n)\n",
        "\n",
        "if int_n > 0:\n",
        "  print('양수')\n",
        "\n",
        "if int_n < 0:\n",
        "  print('음수')\n",
        "\n",
        "if int_n == 0:\n",
        "  print('0')"
      ],
      "metadata": {
        "colab": {
          "base_uri": "https://localhost:8080/"
        },
        "id": "etLCs4c0t8ws",
        "outputId": "5b8f3cc5-e756-4e3c-895e-a76312260e8b"
      },
      "execution_count": null,
      "outputs": [
        {
          "output_type": "stream",
          "name": "stdout",
          "text": [
            "정수를 입력하세요 : 123\n",
            "양수\n"
          ]
        }
      ]
    },
    {
      "cell_type": "code",
      "source": [
        "s_number = input('임의의 양의 정수를 입력하세요 : ')\n",
        "i_num = int( s_number[-1] )   #1의 자리수\n",
        "\n",
        "if i_num % 2 == 0:\n",
        "  print(\"'짝수'\")\n",
        "\n",
        "if i_num % 2 == 1:\n",
        "  print(\"'홀수'\")"
      ],
      "metadata": {
        "colab": {
          "base_uri": "https://localhost:8080/"
        },
        "id": "I9EkEuvOuvdt",
        "outputId": "034f2c99-bdb3-4729-e189-c51de9f29006"
      },
      "execution_count": null,
      "outputs": [
        {
          "output_type": "stream",
          "name": "stdout",
          "text": [
            "임의의 양의 정수를 입력하세요 : 123\n",
            "'홀수'\n"
          ]
        }
      ]
    },
    {
      "cell_type": "markdown",
      "source": [
        "## if ~ else와 elif 구문\n",
        "\n",
        "if ~else~ 형태의 조건에 따라 실행코드 변경을 지시할 일도 많지만 이 형태는 둘중 하나의 작업을 실행하는 경우\n",
        "\n",
        "elif는 보다 많은 경우가 있을때 사용"
      ],
      "metadata": {
        "id": "-u9dzQA0B1pC"
      }
    },
    {
      "cell_type": "code",
      "source": [
        "s_month = input('지금 몇 월 달입니까? ')\n",
        "month = int( s_month )\n",
        "\n",
        "if 1 <= month <= 3:\n",
        "  print(\"1분기\")\n",
        "elif 4 <= month <= 6:\n",
        "  print(\"2분기\")\n",
        "elif 7 <= month <= 9:\n",
        "  print(\"3분기\")\n",
        "else:\n",
        "  print(\"4분기\")"
      ],
      "metadata": {
        "colab": {
          "base_uri": "https://localhost:8080/"
        },
        "id": "FJMWs9VDCqF3",
        "outputId": "e0fea626-f9ad-4ae0-c915-81eb056b26f8"
      },
      "execution_count": null,
      "outputs": [
        {
          "output_type": "stream",
          "name": "stdout",
          "text": [
            "지금 몇 월 달입니까? 5\n",
            "2분기\n"
          ]
        }
      ]
    },
    {
      "cell_type": "markdown",
      "source": [
        "좀더 효율적으로 사용하기"
      ],
      "metadata": {
        "id": "D0EvfD--DlhF"
      }
    },
    {
      "cell_type": "code",
      "source": [
        "score = input('점수를 입력하세요(0~100점) : ')\n",
        "i_score = int( score )\n",
        "\n",
        "if i_score >= 90:\n",
        "  print('우수')\n",
        "elif i_score >= 80:\n",
        "  print('양호')\n",
        "elif i_score >= 70:\n",
        "  print('중간')\n",
        "elif i_score >= 60:\n",
        "  print('미흡')\n",
        "else:\n",
        "  print('...')"
      ],
      "metadata": {
        "colab": {
          "base_uri": "https://localhost:8080/"
        },
        "id": "P9kwlsiaDnb7",
        "outputId": "d0a20903-bcee-404d-fa4c-91dd6fd39692"
      },
      "execution_count": null,
      "outputs": [
        {
          "output_type": "stream",
          "name": "stdout",
          "text": [
            "점수를 입력하세요(0~100점) : 12\n",
            "...\n"
          ]
        }
      ]
    },
    {
      "cell_type": "code",
      "source": [
        "condition = 3 > 2\n",
        "print('조건 :', condition)\n",
        "\n",
        "if condition:\n",
        "  print('조건이 True네요')\n",
        "else:\n",
        "  print('조건이 False네요')"
      ],
      "metadata": {
        "colab": {
          "base_uri": "https://localhost:8080/"
        },
        "id": "1WONFpExEpAQ",
        "outputId": "9e40419a-2452-4792-cd84-e33877b44c0d"
      },
      "execution_count": null,
      "outputs": [
        {
          "output_type": "stream",
          "name": "stdout",
          "text": [
            "조건 : True\n",
            "조건이 True네요\n"
          ]
        }
      ]
    },
    {
      "cell_type": "markdown",
      "source": [
        "####<font color=blue>Quiz</font>\n",
        "\n",
        "등수에 따라 상품이 있습니다.\n",
        "3등은 상품권 5만원, 2등은 3등상품에 핸드폰, 1등은 2등상품에 노트북\n",
        "\n",
        "등수를 입력하면 상품이 출력되도록 코드작성"
      ],
      "metadata": {
        "id": "-iH6JDP3FAwT"
      }
    },
    {
      "cell_type": "code",
      "source": [
        "s = input('몇등 하셨나요?')\n",
        "s = int(s)\n",
        "\n",
        "if s <= 3 :\n",
        "  print('상품권 5만원')\n",
        "if s <= 2 :\n",
        "  print('핸드폰')\n",
        "if s ==1 :\n",
        "  print('노트북')\n"
      ],
      "metadata": {
        "colab": {
          "base_uri": "https://localhost:8080/"
        },
        "id": "qU_beKMTFSp5",
        "outputId": "4763c0bf-7bdb-44b0-d650-2445ff9bdcb5"
      },
      "execution_count": null,
      "outputs": [
        {
          "output_type": "stream",
          "name": "stdout",
          "text": [
            "몇등 하셨나요?2\n",
            "상품권 5만원\n",
            "핸드폰\n"
          ]
        }
      ]
    },
    {
      "cell_type": "markdown",
      "source": [
        "####<font color=blue>Quiz</font>\n",
        "지난 주말에 식물원에 다녀왔습니다. 입장료를 받더군요.\n",
        "어린이는 만 7세 미만은 무료이고 만 7세부터 만 12세까지는 2,000원\n",
        "만 12세 이상부터 만 18세 미만까지는 4,000원,\n",
        "만 18세부터 만 64세 미만까지는 8,000원,\n",
        "만 65세 이상은 무료였습니다.\n",
        "\n",
        "<center>\n",
        "\n",
        "|나이|요금|\n",
        "|:-:|:-:|\n",
        "|0~7세 미만|무료|\n",
        "|7~12세 미만|2,000|\n",
        "|12~18세 미만|4,000|\n",
        "|18~65세 미만|8,000|\n",
        "|65세 이상| 무료|\n",
        "\n",
        "</center>\n",
        "\n",
        "\n",
        "만 나이를 입력하면 나이에 맞는 이용료를 출력하는 프로그램을 작성하세요.\n"
      ],
      "metadata": {
        "id": "RUN9BxX9F75O"
      }
    },
    {
      "cell_type": "code",
      "source": [
        "age = int (input('나이를 입력하세요'))\n",
        "\n",
        "if age < 7:\n",
        "  price = '무료'\n",
        "elif age <= 12:\n",
        "  price = 2000\n",
        "elif age < 18:\n",
        "  price = 4000\n",
        "elif age < 64:\n",
        "  price = 8000\n",
        "else:\n",
        "  price = '무료'\n",
        "\n",
        "print('만 나이가 {}인 당신의 요금은 {}원 입니다'.format(age,price))"
      ],
      "metadata": {
        "colab": {
          "base_uri": "https://localhost:8080/"
        },
        "id": "yyw0NrWeF8kF",
        "outputId": "ad3b2efb-f380-4a39-a0c3-a52f809192dc"
      },
      "execution_count": null,
      "outputs": [
        {
          "output_type": "stream",
          "name": "stdout",
          "text": [
            "나이를 입력하세요52\n",
            "만 나이가 52인 당신의 요금은 8000원 입니다\n"
          ]
        }
      ]
    },
    {
      "cell_type": "markdown",
      "source": [
        "####<font color=blue>Quiz </font>\n",
        "점수에 따라 A, B, C, D, F 학점을 부여하려고 합니다.\n",
        "\n",
        "90\\~100은 A, 즉 100점을 포함한 90점대\n",
        "\n",
        "80\\~90 미만까지는 B, 즉 80점대\n",
        "\n",
        "70\\~80 미만까지는 C, 즉 70점대\n",
        "\n",
        "60\\~70 미만까지는 D, 즉 60점대\n",
        "\n",
        "0\\~60 미만은 F\n",
        "\n",
        "실수형태로 점수를 입력 받아서 A, B, C, D, F를 출력하는 코드를 작성하시오.  \n",
        "예를 들어, 점수가 82.4인 경우 B 학점입니다."
      ],
      "metadata": {
        "id": "09u7RfCjGjwr"
      }
    },
    {
      "cell_type": "code",
      "source": [
        "score = float(input('점수를 입력하세요'))   #float는 실수\n",
        "\n",
        "if score < 60:\n",
        "  grade = 'F'\n",
        "elif score < 70:\n",
        "  grade = 'D'\n",
        "elif score < 80:\n",
        "  grade = 'C'\n",
        "elif score < 90:\n",
        "  grade = 'B'\n",
        "else:\n",
        "  grade = 'A'\n",
        "\n",
        "print(grade)"
      ],
      "metadata": {
        "colab": {
          "base_uri": "https://localhost:8080/"
        },
        "id": "folJGH3uGkmC",
        "outputId": "f84a7638-f956-44ac-8127-fd8dddb48df5"
      },
      "execution_count": null,
      "outputs": [
        {
          "output_type": "stream",
          "name": "stdout",
          "text": [
            "점수를 입력하세요78.41564\n",
            "C\n"
          ]
        }
      ]
    },
    {
      "cell_type": "markdown",
      "source": [
        "#반복문"
      ],
      "metadata": {
        "id": "oqdUdW0vSjOo"
      }
    },
    {
      "cell_type": "markdown",
      "source": [
        "##리스트와 반복문"
      ],
      "metadata": {
        "id": "ew0Q46LgSosb"
      }
    },
    {
      "cell_type": "code",
      "source": [
        "list_a = [1, 2, 3.14, 4]  #숫자로만 구성된 리스트\n",
        "list_b = ['a','b','c'] #문자로 이루어진 리스트\n",
        "\n",
        "print(list_a)\n",
        "print(list_b)"
      ],
      "metadata": {
        "colab": {
          "base_uri": "https://localhost:8080/"
        },
        "id": "HH04LYVGSr0L",
        "outputId": "c98413be-3fec-42f3-8146-2480549c5f45"
      },
      "execution_count": null,
      "outputs": [
        {
          "output_type": "stream",
          "name": "stdout",
          "text": [
            "[1, 2, 3.14, 4]\n",
            "['a', 'b', 'c']\n"
          ]
        }
      ]
    },
    {
      "cell_type": "code",
      "source": [
        "print(list_a[0])  # list_a에서 첫번째 데이터 뽑기"
      ],
      "metadata": {
        "colab": {
          "base_uri": "https://localhost:8080/"
        },
        "id": "u58xKslzTIYv",
        "outputId": "9301038d-389d-4b00-ffc9-a9724d1de1b8"
      },
      "execution_count": null,
      "outputs": [
        {
          "output_type": "stream",
          "name": "stdout",
          "text": [
            "1\n"
          ]
        }
      ]
    },
    {
      "cell_type": "code",
      "source": [
        "name_list = ['손흥민','김민재','이강인','이승우']\n",
        "\n",
        "print(name_list[1])           #이름 리스트의 두번째 데이터\n",
        "print(name_list[1][1])        #두번째 데이터의 두번째글자"
      ],
      "metadata": {
        "colab": {
          "base_uri": "https://localhost:8080/"
        },
        "id": "Bi1ksY_aTS12",
        "outputId": "fd6361b5-52f0-450f-eb36-ba7151736390"
      },
      "execution_count": null,
      "outputs": [
        {
          "output_type": "stream",
          "name": "stdout",
          "text": [
            "김민재\n",
            "민\n"
          ]
        }
      ]
    },
    {
      "cell_type": "code",
      "source": [
        "list = ['a','b',['c','d'],'e']      #리스트 접근 연산자를 이중으로 사용가능\n",
        "\n",
        "print(list[1])\n",
        "print(list[2])\n",
        "print(list[2][0])"
      ],
      "metadata": {
        "colab": {
          "base_uri": "https://localhost:8080/"
        },
        "id": "rvlzqIR4Tvhh",
        "outputId": "fe62e176-94a9-45a1-ea13-2e6d753339e0"
      },
      "execution_count": null,
      "outputs": [
        {
          "output_type": "stream",
          "name": "stdout",
          "text": [
            "b\n",
            "['c', 'd']\n",
            "c\n"
          ]
        }
      ]
    },
    {
      "cell_type": "markdown",
      "source": [
        "##리스트 연결하기 : 연결(+), 반복(*), len()"
      ],
      "metadata": {
        "id": "JfzuIssdUKXz"
      }
    },
    {
      "cell_type": "code",
      "source": [
        "list_x = [1, 3.1415, 'abc']\n",
        "list_y = ['girl', 'boy']\n",
        "\n",
        "list_z = list_x + list_y\n",
        "\n",
        "print(list_z)"
      ],
      "metadata": {
        "colab": {
          "base_uri": "https://localhost:8080/"
        },
        "id": "SfWliZGIUS74",
        "outputId": "11cb6ca4-719d-4b68-bcea-6871939582dd"
      },
      "execution_count": null,
      "outputs": [
        {
          "output_type": "stream",
          "name": "stdout",
          "text": [
            "[1, 3.1415, 'abc', 'girl', 'boy']\n"
          ]
        }
      ]
    },
    {
      "cell_type": "code",
      "source": [
        "[1, 2, 3] * 3        # 결합된 리스트 하나 생성"
      ],
      "metadata": {
        "colab": {
          "base_uri": "https://localhost:8080/"
        },
        "id": "NgHnoSFaUbc6",
        "outputId": "0c7be9f5-5745-4bcf-8be3-77a1159721d1"
      },
      "execution_count": null,
      "outputs": [
        {
          "output_type": "execute_result",
          "data": {
            "text/plain": [
              "[1, 2, 3, 1, 2, 3, 1, 2, 3]"
            ]
          },
          "metadata": {},
          "execution_count": 59
        }
      ]
    },
    {
      "cell_type": "code",
      "source": [
        "len( [1, 2, 3] )   #리스트의 길이(요소의 개수)"
      ],
      "metadata": {
        "colab": {
          "base_uri": "https://localhost:8080/"
        },
        "id": "VCWPKAipUmdd",
        "outputId": "9079e0f9-ca0e-4edf-8dce-ae3ad547bfdf"
      },
      "execution_count": null,
      "outputs": [
        {
          "output_type": "execute_result",
          "data": {
            "text/plain": [
              "3"
            ]
          },
          "metadata": {},
          "execution_count": 60
        }
      ]
    },
    {
      "cell_type": "markdown",
      "source": [
        "###리스트에 요소 추가하기 : append(), insert()"
      ],
      "metadata": {
        "id": "Casei1F-Uso-"
      }
    },
    {
      "cell_type": "code",
      "source": [
        "a = [1, 2, 3]\n",
        "a.append('asd')\n",
        "print(a)"
      ],
      "metadata": {
        "colab": {
          "base_uri": "https://localhost:8080/"
        },
        "id": "xp9Tp-yxU0ga",
        "outputId": "0ed17a06-cbd6-4818-c998-7bf7018784f6"
      },
      "execution_count": null,
      "outputs": [
        {
          "output_type": "stream",
          "name": "stdout",
          "text": [
            "[1, 2, 3, 'asd']\n"
          ]
        }
      ]
    },
    {
      "cell_type": "code",
      "source": [
        "lst = [1, 2, 3]\n",
        "lst.insert(0, 3)    # lst의 인덱스 0 위치에 숫자 데이터 3을 끼워넣어라라\n",
        "print( lst )"
      ],
      "metadata": {
        "colab": {
          "base_uri": "https://localhost:8080/"
        },
        "id": "C0uptC9EVKDu",
        "outputId": "cf7ad88d-77f8-439e-a590-8787fae1aa35"
      },
      "execution_count": null,
      "outputs": [
        {
          "output_type": "stream",
          "name": "stdout",
          "text": [
            "[3, 1, 2, 3]\n"
          ]
        }
      ]
    },
    {
      "cell_type": "markdown",
      "source": [
        "## append() 나 insert()는 결국 요소 하나를 리스트에 추가\n",
        "\n",
        "## 여러 요소를 추가 하려면 extend()를 사용"
      ],
      "metadata": {
        "id": "CLsZW6ZdVc0z"
      }
    },
    {
      "cell_type": "code",
      "source": [
        "lst = [1, 2, 3]\n",
        "lst.extend([4, 5, 6])\n",
        "print(lst)"
      ],
      "metadata": {
        "colab": {
          "base_uri": "https://localhost:8080/"
        },
        "id": "G5FgBOyrVrsV",
        "outputId": "7cf5ebe4-c89e-45fe-c90f-a81a810a5b1c"
      },
      "execution_count": null,
      "outputs": [
        {
          "output_type": "stream",
          "name": "stdout",
          "text": [
            "[1, 2, 3, 4, 5, 6]\n"
          ]
        }
      ]
    },
    {
      "cell_type": "markdown",
      "source": [
        "####<font color=blue><ins>리스트 연결 연산자 +와 extend()함수의 차이</ins></font>"
      ],
      "metadata": {
        "id": "BcwmvxFuV1Zn"
      }
    },
    {
      "cell_type": "code",
      "source": [
        "list_a = [1, 2, 3]\n",
        "list_b = [4, 5, 6]\n",
        "list_c = list_a + list_b\n",
        "\n",
        "print( list_a + list_b)   # 비파괴적 처리\n",
        "print( list_c )\n",
        "\n",
        "print( list_a )      ## list_a는 그대로 남는다"
      ],
      "metadata": {
        "colab": {
          "base_uri": "https://localhost:8080/"
        },
        "id": "tA8PoJDKV2_V",
        "outputId": "de007f27-f884-4201-9acb-1ca852c87717"
      },
      "execution_count": null,
      "outputs": [
        {
          "output_type": "stream",
          "name": "stdout",
          "text": [
            "[1, 2, 3, 4, 5, 6]\n",
            "[1, 2, 3, 4, 5, 6]\n",
            "[1, 2, 3]\n"
          ]
        }
      ]
    },
    {
      "cell_type": "code",
      "source": [
        "list_a = [1, 2, 3]\n",
        "list_b = [4, 5, 6]\n",
        "\n",
        "list_a.extend(list_b)  # 파괴적 처리\n",
        "\n",
        "print( list_a )       ## list_a가 변한다"
      ],
      "metadata": {
        "colab": {
          "base_uri": "https://localhost:8080/"
        },
        "id": "e_x0vAXsV48w",
        "outputId": "62157871-c604-40ea-9d5f-2d71d1bf5c6c"
      },
      "execution_count": null,
      "outputs": [
        {
          "output_type": "stream",
          "name": "stdout",
          "text": [
            "[1, 2, 3, 4, 5, 6]\n"
          ]
        }
      ]
    },
    {
      "cell_type": "markdown",
      "source": [
        "###리스트의 요소 제거하기\n",
        "\n",
        "####인덱스로 제거하기: del 키워드, pop()"
      ],
      "metadata": {
        "id": "GWwytkHJWL-J"
      }
    },
    {
      "cell_type": "code",
      "source": [
        "lst = [1, 2, 3, 4, 5]\n",
        "\n",
        "del lst[1]         #lst에서 두밴째 요소 없애기\n",
        "print( lst )"
      ],
      "metadata": {
        "colab": {
          "base_uri": "https://localhost:8080/"
        },
        "id": "xjwk6fKeXHXT",
        "outputId": "5cf9d8be-f593-4550-ac8c-56609d02b244"
      },
      "execution_count": null,
      "outputs": [
        {
          "output_type": "stream",
          "name": "stdout",
          "text": [
            "[1, 3, 4, 5]\n"
          ]
        }
      ]
    },
    {
      "cell_type": "code",
      "source": [
        "lst = [1, 2, 3, 4, 5]\n",
        "\n",
        "lst.pop(2)       #lst에서 3번째 요소 없애기\n",
        "\n",
        "print( lst )"
      ],
      "metadata": {
        "colab": {
          "base_uri": "https://localhost:8080/"
        },
        "id": "G9_AhqDoXWTB",
        "outputId": "08c53bb2-fdc2-4b03-a436-5fe31001ac63"
      },
      "execution_count": null,
      "outputs": [
        {
          "output_type": "stream",
          "name": "stdout",
          "text": [
            "[1, 2, 4, 5]\n"
          ]
        }
      ]
    },
    {
      "cell_type": "code",
      "source": [
        "lst = [1, 2, 3, 4, 5]\n",
        "\n",
        "pop_data = lst.pop(0)   # 리스트의 맨 앞 요소를 빼서\n",
        "lst.append(pop_data)    # 리스트의 맨 뒤에 붙이기기\n",
        "\n",
        "pop_data = lst.pop(0)\n",
        "lst.append(pop_data)\n",
        "\n",
        "print( lst )"
      ],
      "metadata": {
        "colab": {
          "base_uri": "https://localhost:8080/"
        },
        "id": "YcFXxOpsYYJu",
        "outputId": "433c493c-b140-47e6-daca-1cee168f71c5"
      },
      "execution_count": null,
      "outputs": [
        {
          "output_type": "stream",
          "name": "stdout",
          "text": [
            "[3, 4, 5, 1, 2]\n"
          ]
        }
      ]
    },
    {
      "cell_type": "code",
      "source": [
        "lst = ['a', 'b', 'c', 'd', 'e']\n",
        "print( lst[0:5:2] )    #인덱스 0부터 5까지 증감폭 2로 추출"
      ],
      "metadata": {
        "colab": {
          "base_uri": "https://localhost:8080/"
        },
        "id": "qOuOk3MvZuLW",
        "outputId": "c21e51fd-7c6c-4dbf-a11f-5b111170190b"
      },
      "execution_count": null,
      "outputs": [
        {
          "output_type": "stream",
          "name": "stdout",
          "text": [
            "['a', 'c', 'e']\n"
          ]
        }
      ]
    },
    {
      "cell_type": "markdown",
      "source": [
        "##리스트 정렬하기 : sort()\n"
      ],
      "metadata": {
        "id": "k6rKXFDLaB0L"
      }
    },
    {
      "cell_type": "code",
      "source": [
        "lst = [1, 3, 2, 0, 4, 5]\n",
        "lst.sort()\n",
        "print( lst )"
      ],
      "metadata": {
        "colab": {
          "base_uri": "https://localhost:8080/"
        },
        "id": "5sRZPuB1aEtN",
        "outputId": "e1302f7c-38a7-475d-e157-51d428c18695"
      },
      "execution_count": null,
      "outputs": [
        {
          "output_type": "stream",
          "name": "stdout",
          "text": [
            "[0, 1, 2, 3, 4, 5]\n"
          ]
        }
      ]
    },
    {
      "cell_type": "code",
      "source": [
        "lst = ['케인', '손흥민', '에릭센', '알리']\n",
        "lst.sort()\n",
        "print(lst)               #가나다순 정렬"
      ],
      "metadata": {
        "colab": {
          "base_uri": "https://localhost:8080/"
        },
        "id": "1O4_7Gb9aJjb",
        "outputId": "2b365440-af6d-4ecf-92fd-6ae06f6a14cc"
      },
      "execution_count": null,
      "outputs": [
        {
          "output_type": "stream",
          "name": "stdout",
          "text": [
            "['손흥민', '알리', '에릭센', '케인']\n"
          ]
        }
      ]
    },
    {
      "cell_type": "markdown",
      "source": [
        "## 리스트 내부에 있는지 확인하기 : in/not in 연산자"
      ],
      "metadata": {
        "id": "vAgpiV2waX-F"
      }
    },
    {
      "cell_type": "code",
      "source": [
        "lst = ['케인', '손흥민', '에릭센', '알리']\n",
        "print('케인'in lst)"
      ],
      "metadata": {
        "colab": {
          "base_uri": "https://localhost:8080/"
        },
        "id": "ww7HtiAHac1j",
        "outputId": "be6bd91a-3118-45da-f788-b5a474ea88b2"
      },
      "execution_count": null,
      "outputs": [
        {
          "output_type": "stream",
          "name": "stdout",
          "text": [
            "True\n"
          ]
        }
      ]
    },
    {
      "cell_type": "code",
      "source": [
        "Tottenham = ['케인', '손흥민', '에릭센', '알리']\n",
        "FW = '케인'\n",
        "if FW in Tottenham :\n",
        "  print('{}은 토트넘 공격수 입니다'.format(FW))\n",
        "else:\n",
        "  print('{}은 토트넘 공격수가 아닙니다'.format(FW))"
      ],
      "metadata": {
        "colab": {
          "base_uri": "https://localhost:8080/"
        },
        "id": "QTZ6rCrPakx2",
        "outputId": "84f79b67-4e23-452d-d23c-e461c4f09f76"
      },
      "execution_count": null,
      "outputs": [
        {
          "output_type": "stream",
          "name": "stdout",
          "text": [
            "케인은 토트넘 공격수 입니다\n"
          ]
        }
      ]
    },
    {
      "cell_type": "markdown",
      "source": [
        "##for 반복문"
      ],
      "metadata": {
        "id": "va7WMmwpbn-q"
      }
    },
    {
      "cell_type": "code",
      "source": [
        "for i in [0, 1, 2]:  #리스트 형 데이터 [0, 1, 2] 안에 있는 각각의 요소에 대해서 각각의 요소를 프린트\n",
        "  print(i)"
      ],
      "metadata": {
        "colab": {
          "base_uri": "https://localhost:8080/"
        },
        "id": "kIbYhZmxbs2L",
        "outputId": "3a380271-1cd6-4255-ffe4-cac5d052ced2"
      },
      "execution_count": null,
      "outputs": [
        {
          "output_type": "stream",
          "name": "stdout",
          "text": [
            "0\n",
            "1\n",
            "2\n"
          ]
        }
      ]
    },
    {
      "cell_type": "code",
      "source": [
        "list_a = [1, 2, 3.14, 4]  #숫자로만 구성된 리스트\n",
        "list_b = ['a','b','c'] #문자로 이루어진 리스트\n",
        "\n",
        "print(list_a)\n",
        "print(list_b)"
      ],
      "metadata": {
        "colab": {
          "base_uri": "https://localhost:8080/"
        },
        "id": "Le2xsQ4-cslZ",
        "outputId": "1c000e88-09ce-433d-a453-f895ea772084"
      },
      "execution_count": null,
      "outputs": [
        {
          "output_type": "stream",
          "name": "stdout",
          "text": [
            "[1, 2, 3.14, 4]\n",
            "['a', 'b', 'c']\n"
          ]
        }
      ]
    },
    {
      "cell_type": "markdown",
      "source": [
        "구구단을 완성해보자"
      ],
      "metadata": {
        "id": "hefVUWVNi6oa"
      }
    },
    {
      "cell_type": "code",
      "source": [
        "for i in [1, 2, 3, 4, 5, 6, 7, 8, 9]:\n",
        "  print('2 x {} = {}'.format(i, 2*i))"
      ],
      "metadata": {
        "colab": {
          "base_uri": "https://localhost:8080/"
        },
        "id": "CAE606IgfLwR",
        "outputId": "e02aecf7-da07-4407-ff84-fda0f7941333"
      },
      "execution_count": null,
      "outputs": [
        {
          "output_type": "stream",
          "name": "stdout",
          "text": [
            "2 x 1 = 2\n",
            "2 x 2 = 4\n",
            "2 x 3 = 6\n",
            "2 x 4 = 8\n",
            "2 x 5 = 10\n",
            "2 x 6 = 12\n",
            "2 x 7 = 14\n",
            "2 x 8 = 16\n",
            "2 x 9 = 18\n"
          ]
        }
      ]
    },
    {
      "cell_type": "code",
      "source": [
        "for i in range(1,10):\n",
        "  print('2 x {} = {}'.format(i, 2*i))"
      ],
      "metadata": {
        "colab": {
          "base_uri": "https://localhost:8080/"
        },
        "id": "RgaGlVv6i-pU",
        "outputId": "6894076f-0012-4391-8387-33c770963dd4"
      },
      "execution_count": null,
      "outputs": [
        {
          "output_type": "stream",
          "name": "stdout",
          "text": [
            "2 x 1 = 2\n",
            "2 x 2 = 4\n",
            "2 x 3 = 6\n",
            "2 x 4 = 8\n",
            "2 x 5 = 10\n",
            "2 x 6 = 12\n",
            "2 x 7 = 14\n",
            "2 x 8 = 16\n",
            "2 x 9 = 18\n"
          ]
        }
      ]
    },
    {
      "cell_type": "code",
      "source": [
        "for i in range(1,10):\n",
        "  for j in range(2,10):\n",
        "    print('{} x {} = {}\\t'.format(j,i, j*i), end='')  ## end=''은 결과 옆으로 넘기기\n",
        "  print()"
      ],
      "metadata": {
        "colab": {
          "base_uri": "https://localhost:8080/"
        },
        "id": "PAoj6qoljYvo",
        "outputId": "6a00adc2-feeb-4f90-e928-7629c33c3bb3"
      },
      "execution_count": null,
      "outputs": [
        {
          "output_type": "stream",
          "name": "stdout",
          "text": [
            "2 x 1 = 2\t3 x 1 = 3\t4 x 1 = 4\t5 x 1 = 5\t6 x 1 = 6\t7 x 1 = 7\t8 x 1 = 8\t9 x 1 = 9\t\n",
            "2 x 2 = 4\t3 x 2 = 6\t4 x 2 = 8\t5 x 2 = 10\t6 x 2 = 12\t7 x 2 = 14\t8 x 2 = 16\t9 x 2 = 18\t\n",
            "2 x 3 = 6\t3 x 3 = 9\t4 x 3 = 12\t5 x 3 = 15\t6 x 3 = 18\t7 x 3 = 21\t8 x 3 = 24\t9 x 3 = 27\t\n",
            "2 x 4 = 8\t3 x 4 = 12\t4 x 4 = 16\t5 x 4 = 20\t6 x 4 = 24\t7 x 4 = 28\t8 x 4 = 32\t9 x 4 = 36\t\n",
            "2 x 5 = 10\t3 x 5 = 15\t4 x 5 = 20\t5 x 5 = 25\t6 x 5 = 30\t7 x 5 = 35\t8 x 5 = 40\t9 x 5 = 45\t\n",
            "2 x 6 = 12\t3 x 6 = 18\t4 x 6 = 24\t5 x 6 = 30\t6 x 6 = 36\t7 x 6 = 42\t8 x 6 = 48\t9 x 6 = 54\t\n",
            "2 x 7 = 14\t3 x 7 = 21\t4 x 7 = 28\t5 x 7 = 35\t6 x 7 = 42\t7 x 7 = 49\t8 x 7 = 56\t9 x 7 = 63\t\n",
            "2 x 8 = 16\t3 x 8 = 24\t4 x 8 = 32\t5 x 8 = 40\t6 x 8 = 48\t7 x 8 = 56\t8 x 8 = 64\t9 x 8 = 72\t\n",
            "2 x 9 = 18\t3 x 9 = 27\t4 x 9 = 36\t5 x 9 = 45\t6 x 9 = 54\t7 x 9 = 63\t8 x 9 = 72\t9 x 9 = 81\t\n"
          ]
        }
      ]
    },
    {
      "cell_type": "markdown",
      "source": [
        "##딕셔너리와 반복문"
      ],
      "metadata": {
        "id": "2_hNsmF3kM4q"
      }
    },
    {
      "cell_type": "markdown",
      "source": [
        "딕셔너리 선언하기"
      ],
      "metadata": {
        "id": "UAfv0hyakQxW"
      }
    },
    {
      "cell_type": "code",
      "source": [
        "a_dic = {\n",
        "    'name' : '손흥민',\n",
        "    'team' : 'Tottenham',\n",
        "    'position' : 'FW'\n",
        "}\n",
        "\n",
        "print(a_dic)"
      ],
      "metadata": {
        "colab": {
          "base_uri": "https://localhost:8080/"
        },
        "id": "Hw4Pa4FskS_Y",
        "outputId": "089d6566-c85b-40e3-9940-f276e90aa9fa"
      },
      "execution_count": null,
      "outputs": [
        {
          "output_type": "stream",
          "name": "stdout",
          "text": [
            "{'name': '손흥민', 'team': 'Tottenham', 'position': 'FW'}\n"
          ]
        }
      ]
    },
    {
      "cell_type": "code",
      "source": [
        "print(a_dic['name'])"
      ],
      "metadata": {
        "colab": {
          "base_uri": "https://localhost:8080/"
        },
        "id": "BoqW8dKxkmuE",
        "outputId": "1ff2ac76-28be-4aea-c8aa-37a509b43374"
      },
      "execution_count": null,
      "outputs": [
        {
          "output_type": "stream",
          "name": "stdout",
          "text": [
            "손흥민\n"
          ]
        }
      ]
    },
    {
      "cell_type": "markdown",
      "source": [
        "###딕셔너리에 값 추가하기/제거하기\n",
        "\n",
        "딕셔너리_이름[새로운 키] = 새로운 값"
      ],
      "metadata": {
        "id": "lTy7PfQHk2AF"
      }
    },
    {
      "cell_type": "code",
      "source": [
        "a_dic = {\n",
        "    'name' : '손흥민',\n",
        "    'team' : 'Tottenham',\n",
        "    'position' : 'FW'\n",
        "}\n",
        "a_dic['age'] = '30'         # 나이 추가\n",
        "\n",
        "\n",
        "print(a_dic)"
      ],
      "metadata": {
        "colab": {
          "base_uri": "https://localhost:8080/"
        },
        "id": "XDt5WLc_lLgv",
        "outputId": "7881a946-f55f-4b39-dd77-d1a398512680"
      },
      "execution_count": null,
      "outputs": [
        {
          "output_type": "stream",
          "name": "stdout",
          "text": [
            "{'name': '손흥민', 'team': 'Tottenham', 'position': 'FW', 'age': '30'}\n"
          ]
        }
      ]
    },
    {
      "cell_type": "code",
      "source": [
        "a_dic = {\n",
        "    'name' : '손흥민',\n",
        "    'team' : 'Tottenham',\n",
        "    'position' : 'FW'\n",
        "}\n",
        "a_dic['age'] = '30'\n",
        "\n",
        "del a_dic['name']   # 이름 제거\n",
        "\n",
        "\n",
        "print(a_dic)"
      ],
      "metadata": {
        "colab": {
          "base_uri": "https://localhost:8080/"
        },
        "id": "tVMmLP3xlgaH",
        "outputId": "c5970eec-44d1-4ca1-f730-ae704e3463b4"
      },
      "execution_count": null,
      "outputs": [
        {
          "output_type": "stream",
          "name": "stdout",
          "text": [
            "{'team': 'Tottenham', 'position': 'FW', 'age': '30'}\n"
          ]
        }
      ]
    },
    {
      "cell_type": "markdown",
      "source": [
        "### for 반복문 : 딕셔너리와 함께 사용하기"
      ],
      "metadata": {
        "id": "-IRzYGNUl_PU"
      }
    },
    {
      "cell_type": "code",
      "source": [
        "a_dic = {\n",
        "    'name' : '손흥민',\n",
        "    'team' : 'Tottenham',\n",
        "    'position' : 'FW',\n",
        "    'age' : '30'\n",
        "}\n",
        "\n",
        "print(a_dic)\n",
        "\n",
        "print()\n",
        "print()\n",
        "\n",
        "for key in a_dic :\n",
        "  print(key, \":\", a_dic[key])"
      ],
      "metadata": {
        "colab": {
          "base_uri": "https://localhost:8080/"
        },
        "id": "3575Hc3ymEa9",
        "outputId": "cbd9814e-0477-48d5-b20a-96850746280a"
      },
      "execution_count": null,
      "outputs": [
        {
          "output_type": "stream",
          "name": "stdout",
          "text": [
            "{'name': '손흥민', 'team': 'Tottenham', 'position': 'FW', 'age': '30'}\n",
            "\n",
            "\n",
            "name : 손흥민\n",
            "team : Tottenham\n",
            "position : FW\n",
            "age : 30\n"
          ]
        }
      ]
    },
    {
      "cell_type": "markdown",
      "source": [
        "## for 반복문 : 범위와 함께 사용하기"
      ],
      "metadata": {
        "id": "3LNjoIvpnLHu"
      }
    },
    {
      "cell_type": "code",
      "source": [
        "for index in range(0, 11):\n",
        "  print(index)"
      ],
      "metadata": {
        "colab": {
          "base_uri": "https://localhost:8080/"
        },
        "id": "1XShC5jDmuzc",
        "outputId": "0d78dd48-d22a-46a5-eed9-1784f5da170b"
      },
      "execution_count": null,
      "outputs": [
        {
          "output_type": "stream",
          "name": "stdout",
          "text": [
            "0\n",
            "1\n",
            "2\n",
            "3\n",
            "4\n",
            "5\n",
            "6\n",
            "7\n",
            "8\n",
            "9\n",
            "10\n"
          ]
        }
      ]
    },
    {
      "cell_type": "markdown",
      "source": [
        "### While 반복문\n",
        "\n",
        "몇번 반복할지 명확할때 for, 어떤 조건이 충족되는 동안 계속 반복할 경우 While"
      ],
      "metadata": {
        "id": "1_ZdXILPntGm"
      }
    },
    {
      "cell_type": "code",
      "source": [
        "count = 0\n",
        "# 조건(condition), count < 10가 만족하면 무한히 반복 수행합니다.\n",
        "while count < 10:\n",
        "  print('{}번째 작업 중입니다.'.format(count))\n",
        "  count += 1      # count = count + 1\n",
        "\n",
        "print('종료')"
      ],
      "metadata": {
        "colab": {
          "base_uri": "https://localhost:8080/"
        },
        "id": "Z-nCZKOdn5if",
        "outputId": "c093c4b3-f746-4f5a-f121-c9e8286e40ac"
      },
      "execution_count": null,
      "outputs": [
        {
          "output_type": "stream",
          "name": "stdout",
          "text": [
            "0번째 작업 중입니다.\n",
            "1번째 작업 중입니다.\n",
            "2번째 작업 중입니다.\n",
            "3번째 작업 중입니다.\n",
            "4번째 작업 중입니다.\n",
            "5번째 작업 중입니다.\n",
            "6번째 작업 중입니다.\n",
            "7번째 작업 중입니다.\n",
            "8번째 작업 중입니다.\n",
            "9번째 작업 중입니다.\n",
            "종료\n"
          ]
        }
      ]
    }
  ]
}